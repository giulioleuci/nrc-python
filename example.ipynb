{
 "cells": [
  {
   "cell_type": "code",
   "execution_count": 1,
   "metadata": {},
   "outputs": [],
   "source": [
    "from emotion_analysis import *\n",
    "import spacy"
   ]
  },
  {
   "cell_type": "code",
   "execution_count": 2,
   "metadata": {},
   "outputs": [],
   "source": [
    "nlp = spacy.load(\"en_core_web_sm\")"
   ]
  },
  {
   "cell_type": "code",
   "execution_count": 3,
   "metadata": {},
   "outputs": [],
   "source": [
    "emolexl = get_emolex()\n",
    "vadl = get_vad()"
   ]
  },
  {
   "cell_type": "code",
   "execution_count": 4,
   "metadata": {},
   "outputs": [],
   "source": [
    "def normalize(text):\n",
    "    #text = text.lower()\n",
    "    text = text.replace('\\n','')\n",
    "    text = nlp(text)\n",
    "    \n",
    "    text = \" \".join([token.lemma_ for token in text if not (\n",
    "        token.is_stop or token.pos_ in ['PUNCT','advmod'])\n",
    "                    ])\n",
    "    \n",
    "    return text"
   ]
  },
  {
   "cell_type": "code",
   "execution_count": 5,
   "metadata": {},
   "outputs": [],
   "source": [
    "# plot of The Adventure of Pinocchio in https://en.wikipedia.org/wiki/The_Adventures_of_Pinocchio#Plot\n",
    "text = '''\n",
    "The story begins in Tuscany, Italy. A carpenter named Master Antonio, but whom everyone calls Master Cherry, has found a block of wood that he plans to carve into a leg for his table. When he begins, however, the log shouts out. Frightened by the talking log, Master Cherry gives it to his neighbor Geppetto, an extremely poor man who plans to make a living as a puppeteer in hopes of earning \"a crust of bread and a glass of wine\".\n",
    "\n",
    "Geppetto carves the block into a boy and names him \"Pinocchio\". As soon as Pinocchio's nose has been carved, it begins to grow with his congenital impudence. Before he is even built, Pinocchio already has a mischievous attitude; no sooner than Geppetto is finished carving Pinocchio's feet does the puppet proceed to kick him. Once the puppet has been finished and Geppetto teaches him to walk, Pinocchio runs out the door and away into the town. He is caught by a Carabiniere, who assumes Pinocchio has been mistreated and imprisons Geppetto.\n",
    "\n",
    "Left alone, Pinocchio heads back to Geppetto's house to get something to eat. Once he arrives at home, a talking cricket who has lived in the house for over a century warns him of the perils of disobedience and hedonism. In retaliation, Pinocchio throws a hammer at the cricket, more accurately than he intended to, and accidentally kills it.\n",
    "\n",
    "Pinocchio gets hungry and tries to fry an egg, but what comes out of it is a little bird that flies out the window forcing Pinocchio to leave the house to ask for food. Then he knocks on an old man's door to ask for food. The man thinks that Pinocchio was one of the hooligans who ring the bells for fun, and instead of giving him a good piece of bread all he gets is a bucket of cold water on his head. Cold and wet, Pinocchio comes home and lies down on a stove, but the next day when he wakes up he falls to the ground with burned feet. Luckily, Geppetto is released from prison and makes Pinocchio a new pair of feet. In gratitude, he promises to attend school, and Geppetto sells his only coat to buy him a school book.\n",
    "\n",
    "On his way to school the next morning, Pinocchio encounters the Great Marionette Theatre, and he sells his school book in order to buy a ticket for the show. During the performance, the puppets Harlequin, Pulcinella and Signora Rosaura on stage recognize him in the audience and call out to him, angering the puppet master Mangiafuoco. Upset, he breaks up the excitement and decides to use Pinocchio as firewood to cook his lamb dinner. After Pinocchio pleads to be saved, Mangiafuoco gives in and decides to burn Harlequin. After Pinocchio pleads for Harlequin's salvation, Mangiafuoco gives up. When he learns about Pinocchio's poor father, he ultimately releases him and gives him five gold pieces to give to Geppetto.\n",
    "\n",
    "As Pinocchio travels home to give the coins to his father, he meets a fox and a cat. The Cat pretends to be blind, and the Fox pretends to be lame. A white blackbird tries to warn Pinocchio of their lies, but the blackbird is eaten by the Cat. The two animals convince Pinocchio that if he plants his coins in the Field of Miracles outside the city of Catchfools, they will grow into a tree with gold coins.\n",
    "\n",
    "They stop at the Red Lobster Inn, where the Fox and the Cat gorge themselves on food at Pinocchio's expense and ask to be awoken by midnight. Two hours before the set time, the pair abandon Pinocchio, leaving him to pay for the meal with one of his coins. They instruct the innkeeper to tell Pinocchio that they left after receiving a message stating that the Cat's eldest kitten had fallen ill and that they would meet Pinocchio at the Field of Miracles in the morning.\n",
    "\n",
    "As Pinocchio sets off for Catchfools, the ghost of the Talking Cricket appears, telling him to go home and give the coins to his father. Pinocchio ignores his warnings again. As he passes through a forest, the Fox and Cat, disguised as bandits, ambush Pinocchio, robbing him. The puppet hides the coins in his mouth and escapes to a white house after biting off the Cat's paw. Upon knocking on the door, Pinocchio is greeted by a young fairy with turquoise hair who says she is dead and waiting for a hearse. Unfortunately, the bandits catch Pinocchio and hang him in a tree. After a while, the Fox and Cat get tired of waiting for the puppet to suffocate, and they leave.\n",
    "\n",
    "The Fairy has Pinocchio rescued by summoning a falcon to get him down and having her poodle servant Medoro pick him up in her stagecoach. The Fairy calls in three famous doctors to tell her whether Pinocchio is dead or not. Two of them, an owl and a crow, are unsure of Pinocchio's status with the owl claiming that Pinocchio is alive and the crow claiming that Pinocchio is dead. The third doctor is the Ghost of the Talking Cricket who says that the puppet is fine, but has been disobedient and hurt his father. The Fairy administers medicine to Pinocchio who consents to take it after four undertaker rabbits arrive to carry away his body. Recovered, Pinocchio lies to the Fairy when she asks what has happened to the gold coins, and his nose grows until it is so long that he cannot turn around in the room. The Fairy explains that Pinocchio's lies are making his nose grow and calls in a flock of woodpeckers to chisel it down to size. The Fairy sends for Geppetto to come and live with them in the forest cottage.\n",
    "\n",
    "When Pinocchio heads out to meet his father, he once again encounters the Fox and the Cat. When Pinocchio notices the Cat's missing paw, the Fox claims that they had to sacrifice it to feed a hungry old wolf. They remind the puppet of the Field of Miracles, and finally, he agrees to go with them and plant his gold. They finally reach the city of Catchfools, where every animal in town has done something exceedingly foolish and now suffers as a result. Upon reaching the Field of Miracles, Pinocchio buries his coins and then leaves for the twenty minutes that it will take for his gold to grow into gold coin trees. After Pinocchio leaves, the Fox and the Cat dig up the coins and run away.\n",
    "\n",
    "Once Pinocchio returns, he learns of the Fox and the Cat's treachery from a parrot who mocks Pinocchio for falling for their tricks. Pinocchio rushes to the Catchfools courthouse where he reports the theft of the coins to a gorilla judge. Although he is moved by Pinocchio's plea, the gorilla judge sentences Pinocchio to four months in prison for the crime of foolishness as he is taken away by two mastiffs dressed as Gendarmerie. Fortunately, all criminals are released early by the jailers when the unseen young Emperor of Catchfools declares a celebration following his army's victory over the town's enemies. Upon being released by stating to the jailer that he committed a crime, Pinocchio leaves Catchfools.\n",
    "\n",
    "As Pinocchio heads back to the forest, he finds an enormous snake with a smoking tail blocking the way. After some confusion, he asks the serpent to move, but the serpent remains completely still. Concluding that it is dead, Pinocchio begins to step over it, but the serpent suddenly rises up and hisses at the marionette, toppling him over onto his head. Struck by Pinocchio's fright and comical position, the snake laughs so hard he bursts an artery and dies.\n",
    "\n",
    "Pinocchio then heads back to the Fairy's house in the forest, but he sneaks into a farmer's yard to steal some grapes. He is caught in a weasel trap where he encounters a glowworm. The farmer finds Pinocchio and ties him up in the doghouse of his late watch dog Melampo to guard the chicken coop. When Pinocchio foils the chicken-stealing weasels, the farmer frees the puppet as a reward. Pinocchio finally comes to where the cottage was, finds nothing but a gravestone, and believes that the Fairy has died of sorrow.\n",
    "\n",
    "A friendly pigeon sees Pinocchio mourning the Fairy's death and offers to give him a ride to the seashore, where Geppetto is building a boat in which to search for Pinocchio. Pinocchio is washed ashore when he tries to swim to his father. Geppetto is then swallowed by The Terrible Dogfish. Pinocchio accepts a ride from a dolphin to the nearest island called the Island of Busy Bees.\n",
    "\n",
    "Upon arriving on the Island of Busy Bees, Pinocchio can only get food in return for labor. Pinocchio offers to carry a lady's jug home in return for food and water. When they get to the lady's house, Pinocchio recognizes the lady as the Fairy, now miraculously old enough to be his mother. She says she will act as his mother, and Pinocchio will begin going to school. She hints that if Pinocchio does well in school and tries his hardest to be good for one whole year, then he will become a real boy.\n",
    "\n",
    "Pinocchio studies hard and rises to the top of his class, but this makes the other schoolboys jealous. The other boys trick Pinocchio into playing hookey by saying they saw a large sea monster at the beach, the same one that swallowed Geppetto. However, the boys were lying and a fight breaks out. One boy named Eugene is hit by Pinocchio's school book, though Pinocchio did not throw it. Pinocchio is accused of injuring Eugene by two Carabinieres, but the puppet escapes. During his escape, Pinocchio saves a drowning Mastiff named Alidoro. In exchange, Alidoro later saves Pinocchio from The Green Fisherman, who was going to eat the marionette as Pinocchio returns home. After meeting the Snail that works for the Fairy, Pinocchio is given another chance by the Fairy.\n",
    "\n",
    "Pinocchio does excellently in school and passes with high honors. The Fairy promises that Pinocchio will be a real boy the next day and says he should invite all his friends to a party. He goes to invite everyone, but he is sidetracked when he meets his closest friend from school, a boy nicknamed Candlewick, who is about to go to a place called Toyland where everyone plays all day and never works. Pinocchio goes along with him when they are taken there by The Coachman, and they have a wonderful time for the next five months.\n",
    "\n",
    "One morning in the fifth month, Pinocchio and Candlewick awake with donkeys' ears. A Dormouse tells Pinocchio that he has got a donkey fever: boys who do nothing but play and never study always turn into donkeys. Soon, both Pinocchio and Candlewick are fully transformed. Pinocchio is sold to a circus by The Coachman. He is trained by the ringmaster to do tricks until he falls and sprains his leg. The ringmaster then sells Pinocchio to a man who wants to skin him and make a drum. The man throws the donkey into the sea to drown him. But when the man goes to retrieve the corpse, all he finds is a living marionette. Pinocchio explains that the fish ate all the donkey skin off him and he is now a puppet again.\n",
    "\n",
    "Pinocchio dives back into the water and swims out to sea. When the Terrible Dogfish appears, Pinocchio swims from it at the advice of the Fairy in the form of a little blue-furred goat from atop a high rock, but is swallowed by it. Inside the Dogfish, Pinocchio unexpectedly finds Geppetto, who has been living on a ship inside there. Pinocchio and Gepetto with the help of a tuna, a companion inside the Dogfish, who, following his example, managed to escape and took them on his back to the mainland. Pinocchio gave a kiss of thanks and left with his father in search of a place to stay.\n",
    "\n",
    "Pinocchio and Geppetto encounter the Fox and the Cat who are now impoverished. The Cat has really become blind, and the Fox has really become lame and is also thin, almost hairless, and has chopped off his tail to sell for food. The Fox and the Cat plead for food or money, but Pinocchio rebuffs them and tells them that their misfortunes have served them right for their wickedness. Geppetto and Pinocchio arrive at a small house, which is home to the Talking Cricket. The Talking Cricket says they can stay and reveals that he got his house from a little goat with turquoise hair. Pinocchio gets a job doing work for Farmer Giangio and recognizes the farmer's dying donkey as his friend Candlewick.\n",
    "\n",
    "After long months of working for the farmer and supporting the ailing Geppetto, Pinocchio goes to town with the forty pennies he has saved to buy himself a new suit. He discovers that the Fairy is ill and needs money. Pinocchio instantly gives the Snail he met back on the Island of Busy Bees all the money he has.\n",
    "\n",
    "That night, he dreams that he is visited by the Fairy, who kisses him. When he wakes up, he is a real boy at last. His former puppet body lies lifeless on a chair. Furthermore, Pinocchio finds that the Fairy has left him a new suit, boots, and a bag in which he thinks are the forty pennies that he originally gave to her. Instead, the boy is shocked to find forty freshly-minted gold coins. Geppetto also returns to health.\n",
    "\n",
    "\n",
    "'''"
   ]
  },
  {
   "cell_type": "code",
   "execution_count": 6,
   "metadata": {},
   "outputs": [],
   "source": [
    "text = normalize(text)"
   ]
  },
  {
   "cell_type": "markdown",
   "metadata": {},
   "source": [
    "# Emotions in plot of Pinocchio"
   ]
  },
  {
   "cell_type": "code",
   "execution_count": 7,
   "metadata": {},
   "outputs": [
    {
     "data": {
      "text/plain": [
       "({'anger': 46,\n",
       "  'anticipation': 69,\n",
       "  'disgust': 42,\n",
       "  'fear': 62,\n",
       "  'joy': 63,\n",
       "  'sadness': 59,\n",
       "  'surprise': 58,\n",
       "  'trust': 90},\n",
       " 489,\n",
       " 241,\n",
       " 1090)"
      ]
     },
     "execution_count": 7,
     "metadata": {},
     "output_type": "execute_result"
    }
   ],
   "source": [
    "emolex(text,emolexl)"
   ]
  },
  {
   "cell_type": "code",
   "execution_count": 8,
   "metadata": {},
   "outputs": [
    {
     "data": {
      "text/plain": [
       "({'valence': 455.11899999999935,\n",
       "  'arousal': 380.3930000000001,\n",
       "  'dominance': 398.9939999999995},\n",
       " 794,\n",
       " 1090)"
      ]
     },
     "execution_count": 8,
     "metadata": {},
     "output_type": "execute_result"
    }
   ],
   "source": [
    "vad(text,vadl)"
   ]
  },
  {
   "cell_type": "code",
   "execution_count": null,
   "metadata": {},
   "outputs": [],
   "source": []
  }
 ],
 "metadata": {
  "kernelspec": {
   "display_name": "Python 3",
   "language": "python",
   "name": "python3"
  },
  "language_info": {
   "codemirror_mode": {
    "name": "ipython",
    "version": 3
   },
   "file_extension": ".py",
   "mimetype": "text/x-python",
   "name": "python",
   "nbconvert_exporter": "python",
   "pygments_lexer": "ipython3",
   "version": "3.7.4"
  }
 },
 "nbformat": 4,
 "nbformat_minor": 2
}
